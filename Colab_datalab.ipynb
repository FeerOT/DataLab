{
  "nbformat": 4,
  "nbformat_minor": 0,
  "metadata": {
    "colab": {
      "provenance": [],
      "authorship_tag": "ABX9TyORniuQhmI4XcWFjhtjcIzT",
      "include_colab_link": true
    },
    "kernelspec": {
      "name": "python3",
      "display_name": "Python 3"
    },
    "language_info": {
      "name": "python"
    }
  },
  "cells": [
    {
      "cell_type": "markdown",
      "metadata": {
        "id": "view-in-github",
        "colab_type": "text"
      },
      "source": [
        "<a href=\"https://colab.research.google.com/github/FeerOT/DataLab/blob/main/Colab_datalab.ipynb\" target=\"_parent\"><img src=\"https://colab.research.google.com/assets/colab-badge.svg\" alt=\"Open In Colab\"/></a>"
      ]
    },
    {
      "cell_type": "code",
      "execution_count": null,
      "metadata": {
        "colab": {
          "base_uri": "https://localhost:8080/"
        },
        "id": "LDgVMXFBcjuw",
        "outputId": "5b7b81cd-8b81-48e6-ddc2-5242076fdc83"
      },
      "outputs": [
        {
          "output_type": "stream",
          "name": "stdout",
          "text": [
            "Requirement already satisfied: nltk in /usr/local/lib/python3.10/dist-packages (3.8.1)\n",
            "Requirement already satisfied: click in /usr/local/lib/python3.10/dist-packages (from nltk) (8.1.7)\n",
            "Requirement already satisfied: joblib in /usr/local/lib/python3.10/dist-packages (from nltk) (1.3.2)\n",
            "Requirement already satisfied: regex>=2021.8.3 in /usr/local/lib/python3.10/dist-packages (from nltk) (2023.6.3)\n",
            "Requirement already satisfied: tqdm in /usr/local/lib/python3.10/dist-packages (from nltk) (4.66.1)\n"
          ]
        },
        {
          "output_type": "stream",
          "name": "stderr",
          "text": [
            "[nltk_data] Downloading package vader_lexicon to /root/nltk_data...\n"
          ]
        },
        {
          "output_type": "stream",
          "name": "stdout",
          "text": [
            "                               review_content_limpio  sentiment_score\n",
            "0  It cost should be under Rs  500 Buy it Color i...           0.9933\n",
            "1  It s a good data cable and I recommend it to p...           0.9794\n",
            "2  Light weight Product is compact and goog looki...           0.9061\n",
            "3  Its worth it At this price the product is very...           0.9954\n",
            "4  Samsung offers super fast charging at 25 watt ...           0.9568\n"
          ]
        }
      ],
      "source": [
        "!pip install nltk\n",
        "import nltk\n",
        "nltk.download('vader_lexicon')\n",
        "from nltk.sentiment import SentimentIntensityAnalyzer\n",
        "from google.colab import auth\n",
        "from google.cloud import bigquery\n",
        "import pandas as pd\n",
        "# Autenticación en Google Cloud\n",
        "auth.authenticate_user()\n",
        "# Configuración del proyecto de Google Cloud\n",
        "project_id = \"datalab-410116\"\n",
        "client = bigquery.Client(project=project_id)\n",
        "# Consulta en BigQuery para obtener los datos necesarios\n",
        "query = \"\"\"\n",
        "SELECT\n",
        "  review_content_limpio\n",
        "FROM\n",
        "  `datalab-410116.datos.amazon_limpia`\n",
        "\"\"\"\n",
        "# ...\n",
        "# Ejecuta la consulta y obtén los resultados\n",
        "query_job = client.query(query)\n",
        "results = list(query_job.result())  # Convertir resultados a lista\n",
        "# Inicializa una lista para almacenar los resultados del análisis de sentimientos\n",
        "sentiments = []\n",
        "# Analiza el sentimiento para cada revisión y almacena los resultados\n",
        "sia = SentimentIntensityAnalyzer()\n",
        "for row in results:\n",
        "    content = row[\"review_content_limpio\"]\n",
        "    sentiment_score = sia.polarity_scores(content)[\"compound\"]\n",
        "    sentiments.append(sentiment_score)\n",
        "# Crea un DataFrame con los resultados\n",
        "df = pd.DataFrame({\n",
        "    \"review_content_limpio\": [row[\"review_content_limpio\"] for row in results],\n",
        "    \"sentiment_score\": sentiments\n",
        "})\n",
        "# Imprime el DataFrame\n",
        "print(df.head())"
      ]
    },
    {
      "cell_type": "code",
      "source": [
        "import nltk\n",
        "from nltk.sentiment import SentimentIntensityAnalyzer\n",
        "from google.colab import auth\n",
        "from google.cloud import bigquery\n",
        "import pandas as pd\n",
        "\n",
        "# Autenticación en Google Cloud\n",
        "auth.authenticate_user()\n",
        "\n",
        "# Configuración del proyecto de Google Cloud\n",
        "project_id = \"datalab-410116\"\n",
        "client = bigquery.Client(project=project_id)\n",
        "\n",
        "# Consulta en BigQuery para obtener los datos necesarios\n",
        "query = \"\"\"\n",
        "SELECT\n",
        "  review_content_limpio,\n",
        "FROM\n",
        "  `datalab-410116.datos.amazon_limpia`\n",
        "\"\"\"\n",
        "\n",
        "# Ejecuta la consulta y obtén los resultados\n",
        "query_job = client.query(query)\n",
        "results = list(query_job.result())\n",
        "\n",
        "# Inicializa una lista para almacenar los resultados del análisis de sentimientos\n",
        "sentiments = []\n",
        "\n",
        "# Analiza el sentimiento para cada revisión y almacena los resultados\n",
        "sia = SentimentIntensityAnalyzer()\n",
        "for row in results:\n",
        "    content = row[\"review_content_limpio\"]\n",
        "    sentiment_score = sia.polarity_scores(content)[\"compound\"]\n",
        "    sentiments.append(sentiment_score)\n",
        "\n",
        "# Crea un DataFrame con los resultados\n",
        "df = pd.DataFrame({\n",
        "    \"review_content_limpio\": [row[\"review_content_limpio\"] for row in results],\n",
        "    \"sentiment_score\": sentiments\n",
        "})\n",
        "\n",
        "# Agrega la columna \"sentiment_score\" a la tabla en BigQuery\n",
        "table_id = \"datos.amazon_limpia\"  # Reemplaza con tu ID de tabla completo\n",
        "table_ref = client.dataset(\"datos\").table(\"amazon_limpia\")  # Reemplaza con tu ID de conjunto de datos\n",
        "table = client.get_table(table_ref)\n",
        "\n",
        "# Agrega la columna \"sentiment_score\" si no existe\n",
        "schema = table.schema\n",
        "if \"sentiment_score\" not in [field.name for field in schema]:\n",
        "    new_field = bigquery.SchemaField(\"sentiment_score\", \"FLOAT\")\n",
        "    schema.append(new_field)\n",
        "    table.schema = schema\n",
        "    client.update_table(table, [\"schema\"])\n",
        "\n",
        "# Actualiza los datos en BigQuery con la nueva columna\n",
        "job_config = bigquery.LoadJobConfig(\n",
        "    schema=[bigquery.SchemaField(\"sentiment_score\", \"FLOAT\")],\n",
        "    write_disposition=\"WRITE_TRUNCATE\"  # Esto puede ser ajustado según tus necesidades\n",
        ")\n",
        "\n",
        "client.load_table_from_dataframe(df, table_ref, job_config=job_config).result()\n",
        "# Crea un DataFrame temporal con la nueva columna\n",
        "df_temporal = pd.DataFrame({\n",
        "    \"review_content_limpio\": [row[\"review_content_limpio\"] for row in results],\n",
        "    \"sentiment_score\": sentiments\n",
        "})\n",
        "\n",
        "# Carga la tabla temporal a BigQuery\n",
        "table_temporal_id = \"amazon_limpia\"  # Reemplaza con tu ID de tabla temporal\n",
        "table_temporal_ref = client.dataset(\"amazon\").table(\"limpia\")  # Reemplaza con tu ID de conjunto de datos temporal\n",
        "job_config_temporal = bigquery.LoadJobConfig(\n",
        "    schema=[bigquery.SchemaField(\"sentiment_score\", \"FLOAT\")],\n",
        "    write_disposition=\"WRITE_TRUNCATE\"\n",
        ")\n",
        "client.load_table_from_dataframe(df_temporal, table_temporal_ref, job_config=job_config_temporal).result()\n",
        "\n",
        "# Crea una nueva tabla con el esquema actualizado\n",
        "table_id = \"datos.amazon_limpia\"  # Reemplaza con tu ID de tabla completo\n",
        "table_ref = client.dataset(\"datos\").table(\"amazon_limpia\")  # Reemplaza con tu ID de conjunto de datos\n",
        "new_field = bigquery.SchemaField(\"sentiment_score\", \"FLOAT\")\n",
        "schema = table.schema + [new_field]\n",
        "new_table = bigquery.Table(table_ref, schema=schema)\n",
        "client.create_table(new_table, exists_ok=True)\n",
        "\n",
        "# Carga datos desde la tabla temporal a la nueva tabla\n",
        "job_config_final = bigquery.LoadJobConfig(\n",
        "    write_disposition=\"WRITE_TRUNCATE\"\n",
        ")\n",
        "client.copy_table(table_temporal_ref, table_ref, job_config=job_config_final).result()\n",
        "\n"
      ],
      "metadata": {
        "colab": {
          "base_uri": "https://localhost:8080/",
          "height": 425
        },
        "id": "zyKuP6Ojgp57",
        "outputId": "efea5021-a1bc-4fc3-e143-7a07fba3e693"
      },
      "execution_count": null,
      "outputs": [
        {
          "output_type": "error",
          "ename": "BadRequest",
          "evalue": "400 PATCH https://bigquery.googleapis.com/bigquery/v2/projects/datalab-410116/datasets/datos/tables/amazon_limpia?prettyPrint=false: Provided Schema does not match Table datalab-410116:datos.amazon_limpia. Cannot add fields (field: sentiment_score)",
          "traceback": [
            "\u001b[0;31m---------------------------------------------------------------------------\u001b[0m",
            "\u001b[0;31mBadRequest\u001b[0m                                Traceback (most recent call last)",
            "\u001b[0;32m<ipython-input-3-911fbddcc12e>\u001b[0m in \u001b[0;36m<cell line: 49>\u001b[0;34m()\u001b[0m\n\u001b[1;32m     51\u001b[0m     \u001b[0mschema\u001b[0m\u001b[0;34m.\u001b[0m\u001b[0mappend\u001b[0m\u001b[0;34m(\u001b[0m\u001b[0mnew_field\u001b[0m\u001b[0;34m)\u001b[0m\u001b[0;34m\u001b[0m\u001b[0;34m\u001b[0m\u001b[0m\n\u001b[1;32m     52\u001b[0m     \u001b[0mtable\u001b[0m\u001b[0;34m.\u001b[0m\u001b[0mschema\u001b[0m \u001b[0;34m=\u001b[0m \u001b[0mschema\u001b[0m\u001b[0;34m\u001b[0m\u001b[0;34m\u001b[0m\u001b[0m\n\u001b[0;32m---> 53\u001b[0;31m     \u001b[0mclient\u001b[0m\u001b[0;34m.\u001b[0m\u001b[0mupdate_table\u001b[0m\u001b[0;34m(\u001b[0m\u001b[0mtable\u001b[0m\u001b[0;34m,\u001b[0m \u001b[0;34m[\u001b[0m\u001b[0;34m\"schema\"\u001b[0m\u001b[0;34m]\u001b[0m\u001b[0;34m)\u001b[0m\u001b[0;34m\u001b[0m\u001b[0;34m\u001b[0m\u001b[0m\n\u001b[0m\u001b[1;32m     54\u001b[0m \u001b[0;34m\u001b[0m\u001b[0m\n\u001b[1;32m     55\u001b[0m \u001b[0;31m# Actualiza los datos en BigQuery con la nueva columna\u001b[0m\u001b[0;34m\u001b[0m\u001b[0;34m\u001b[0m\u001b[0m\n",
            "\u001b[0;32m/usr/local/lib/python3.10/dist-packages/google/cloud/bigquery/client.py\u001b[0m in \u001b[0;36mupdate_table\u001b[0;34m(self, table, fields, retry, timeout)\u001b[0m\n\u001b[1;32m   1337\u001b[0m         \u001b[0mspan_attributes\u001b[0m \u001b[0;34m=\u001b[0m \u001b[0;34m{\u001b[0m\u001b[0;34m\"path\"\u001b[0m\u001b[0;34m:\u001b[0m \u001b[0mpath\u001b[0m\u001b[0;34m,\u001b[0m \u001b[0;34m\"fields\"\u001b[0m\u001b[0;34m:\u001b[0m \u001b[0mfields\u001b[0m\u001b[0;34m}\u001b[0m\u001b[0;34m\u001b[0m\u001b[0;34m\u001b[0m\u001b[0m\n\u001b[1;32m   1338\u001b[0m \u001b[0;34m\u001b[0m\u001b[0m\n\u001b[0;32m-> 1339\u001b[0;31m         api_response = self._call_api(\n\u001b[0m\u001b[1;32m   1340\u001b[0m             \u001b[0mretry\u001b[0m\u001b[0;34m,\u001b[0m\u001b[0;34m\u001b[0m\u001b[0;34m\u001b[0m\u001b[0m\n\u001b[1;32m   1341\u001b[0m             \u001b[0mspan_name\u001b[0m\u001b[0;34m=\u001b[0m\u001b[0;34m\"BigQuery.updateTable\"\u001b[0m\u001b[0;34m,\u001b[0m\u001b[0;34m\u001b[0m\u001b[0;34m\u001b[0m\u001b[0m\n",
            "\u001b[0;32m/usr/local/lib/python3.10/dist-packages/google/cloud/bigquery/client.py\u001b[0m in \u001b[0;36m_call_api\u001b[0;34m(self, retry, span_name, span_attributes, job_ref, headers, **kwargs)\u001b[0m\n\u001b[1;32m    814\u001b[0m                 \u001b[0mname\u001b[0m\u001b[0;34m=\u001b[0m\u001b[0mspan_name\u001b[0m\u001b[0;34m,\u001b[0m \u001b[0mattributes\u001b[0m\u001b[0;34m=\u001b[0m\u001b[0mspan_attributes\u001b[0m\u001b[0;34m,\u001b[0m \u001b[0mclient\u001b[0m\u001b[0;34m=\u001b[0m\u001b[0mself\u001b[0m\u001b[0;34m,\u001b[0m \u001b[0mjob_ref\u001b[0m\u001b[0;34m=\u001b[0m\u001b[0mjob_ref\u001b[0m\u001b[0;34m\u001b[0m\u001b[0;34m\u001b[0m\u001b[0m\n\u001b[1;32m    815\u001b[0m             ):\n\u001b[0;32m--> 816\u001b[0;31m                 \u001b[0;32mreturn\u001b[0m \u001b[0mcall\u001b[0m\u001b[0;34m(\u001b[0m\u001b[0;34m)\u001b[0m\u001b[0;34m\u001b[0m\u001b[0;34m\u001b[0m\u001b[0m\n\u001b[0m\u001b[1;32m    817\u001b[0m \u001b[0;34m\u001b[0m\u001b[0m\n\u001b[1;32m    818\u001b[0m         \u001b[0;32mreturn\u001b[0m \u001b[0mcall\u001b[0m\u001b[0;34m(\u001b[0m\u001b[0;34m)\u001b[0m\u001b[0;34m\u001b[0m\u001b[0;34m\u001b[0m\u001b[0m\n",
            "\u001b[0;32m/usr/local/lib/python3.10/dist-packages/google/api_core/retry.py\u001b[0m in \u001b[0;36mretry_wrapped_func\u001b[0;34m(*args, **kwargs)\u001b[0m\n\u001b[1;32m    347\u001b[0m                 \u001b[0mself\u001b[0m\u001b[0;34m.\u001b[0m\u001b[0m_initial\u001b[0m\u001b[0;34m,\u001b[0m \u001b[0mself\u001b[0m\u001b[0;34m.\u001b[0m\u001b[0m_maximum\u001b[0m\u001b[0;34m,\u001b[0m \u001b[0mmultiplier\u001b[0m\u001b[0;34m=\u001b[0m\u001b[0mself\u001b[0m\u001b[0;34m.\u001b[0m\u001b[0m_multiplier\u001b[0m\u001b[0;34m\u001b[0m\u001b[0;34m\u001b[0m\u001b[0m\n\u001b[1;32m    348\u001b[0m             )\n\u001b[0;32m--> 349\u001b[0;31m             return retry_target(\n\u001b[0m\u001b[1;32m    350\u001b[0m                 \u001b[0mtarget\u001b[0m\u001b[0;34m,\u001b[0m\u001b[0;34m\u001b[0m\u001b[0;34m\u001b[0m\u001b[0m\n\u001b[1;32m    351\u001b[0m                 \u001b[0mself\u001b[0m\u001b[0;34m.\u001b[0m\u001b[0m_predicate\u001b[0m\u001b[0;34m,\u001b[0m\u001b[0;34m\u001b[0m\u001b[0;34m\u001b[0m\u001b[0m\n",
            "\u001b[0;32m/usr/local/lib/python3.10/dist-packages/google/api_core/retry.py\u001b[0m in \u001b[0;36mretry_target\u001b[0;34m(target, predicate, sleep_generator, timeout, on_error, **kwargs)\u001b[0m\n\u001b[1;32m    189\u001b[0m     \u001b[0;32mfor\u001b[0m \u001b[0msleep\u001b[0m \u001b[0;32min\u001b[0m \u001b[0msleep_generator\u001b[0m\u001b[0;34m:\u001b[0m\u001b[0;34m\u001b[0m\u001b[0;34m\u001b[0m\u001b[0m\n\u001b[1;32m    190\u001b[0m         \u001b[0;32mtry\u001b[0m\u001b[0;34m:\u001b[0m\u001b[0;34m\u001b[0m\u001b[0;34m\u001b[0m\u001b[0m\n\u001b[0;32m--> 191\u001b[0;31m             \u001b[0;32mreturn\u001b[0m \u001b[0mtarget\u001b[0m\u001b[0;34m(\u001b[0m\u001b[0;34m)\u001b[0m\u001b[0;34m\u001b[0m\u001b[0;34m\u001b[0m\u001b[0m\n\u001b[0m\u001b[1;32m    192\u001b[0m \u001b[0;34m\u001b[0m\u001b[0m\n\u001b[1;32m    193\u001b[0m         \u001b[0;31m# pylint: disable=broad-except\u001b[0m\u001b[0;34m\u001b[0m\u001b[0;34m\u001b[0m\u001b[0m\n",
            "\u001b[0;32m/usr/local/lib/python3.10/dist-packages/google/cloud/_http/__init__.py\u001b[0m in \u001b[0;36mapi_request\u001b[0;34m(self, method, path, query_params, data, content_type, headers, api_base_url, api_version, expect_json, _target_object, timeout, extra_api_info)\u001b[0m\n\u001b[1;32m    492\u001b[0m \u001b[0;34m\u001b[0m\u001b[0m\n\u001b[1;32m    493\u001b[0m         \u001b[0;32mif\u001b[0m \u001b[0;32mnot\u001b[0m \u001b[0;36m200\u001b[0m \u001b[0;34m<=\u001b[0m \u001b[0mresponse\u001b[0m\u001b[0;34m.\u001b[0m\u001b[0mstatus_code\u001b[0m \u001b[0;34m<\u001b[0m \u001b[0;36m300\u001b[0m\u001b[0;34m:\u001b[0m\u001b[0;34m\u001b[0m\u001b[0;34m\u001b[0m\u001b[0m\n\u001b[0;32m--> 494\u001b[0;31m             \u001b[0;32mraise\u001b[0m \u001b[0mexceptions\u001b[0m\u001b[0;34m.\u001b[0m\u001b[0mfrom_http_response\u001b[0m\u001b[0;34m(\u001b[0m\u001b[0mresponse\u001b[0m\u001b[0;34m)\u001b[0m\u001b[0;34m\u001b[0m\u001b[0;34m\u001b[0m\u001b[0m\n\u001b[0m\u001b[1;32m    495\u001b[0m \u001b[0;34m\u001b[0m\u001b[0m\n\u001b[1;32m    496\u001b[0m         \u001b[0;32mif\u001b[0m \u001b[0mexpect_json\u001b[0m \u001b[0;32mand\u001b[0m \u001b[0mresponse\u001b[0m\u001b[0;34m.\u001b[0m\u001b[0mcontent\u001b[0m\u001b[0;34m:\u001b[0m\u001b[0;34m\u001b[0m\u001b[0;34m\u001b[0m\u001b[0m\n",
            "\u001b[0;31mBadRequest\u001b[0m: 400 PATCH https://bigquery.googleapis.com/bigquery/v2/projects/datalab-410116/datasets/datos/tables/amazon_limpia?prettyPrint=false: Provided Schema does not match Table datalab-410116:datos.amazon_limpia. Cannot add fields (field: sentiment_score)"
          ]
        }
      ]
    },
    {
      "cell_type": "code",
      "source": [
        "import nltk\n",
        "nltk.download('vader_lexicon')\n"
      ],
      "metadata": {
        "colab": {
          "base_uri": "https://localhost:8080/"
        },
        "id": "JbYmHhYX8Q5V",
        "outputId": "79ad9071-571e-42f3-a414-1be539f28ebb"
      },
      "execution_count": null,
      "outputs": [
        {
          "output_type": "stream",
          "name": "stderr",
          "text": [
            "[nltk_data] Downloading package vader_lexicon to /root/nltk_data...\n"
          ]
        },
        {
          "output_type": "execute_result",
          "data": {
            "text/plain": [
              "True"
            ]
          },
          "metadata": {},
          "execution_count": 2
        }
      ]
    },
    {
      "cell_type": "code",
      "source": [
        "import nltk\n",
        "from nltk.sentiment import SentimentIntensityAnalyzer\n",
        "from google.colab import auth\n",
        "from google.cloud import bigquery\n",
        "import pandas as pd\n",
        "\n",
        "# Autenticación en Google Cloud\n",
        "auth.authenticate_user()\n",
        "\n",
        "# Configuración del proyecto de Google Cloud\n",
        "project_id = \"datalab-410116\"\n",
        "client = bigquery.Client(project=project_id)\n",
        "\n",
        "# Consulta en BigQuery para obtener los datos necesarios\n",
        "query = \"\"\"\n",
        "SELECT\n",
        "  review_content_limpio\n",
        "FROM\n",
        "  `datalab-410116.datos.amazon_limpia`\n",
        "\"\"\"\n",
        "\n",
        "# Ejecuta la consulta y obtén los resultados\n",
        "query_job = client.query(query)\n",
        "results = list(query_job.result())\n",
        "\n",
        "# Inicializa una lista para almacenar los resultados del análisis de sentimientos\n",
        "sentiments = []\n",
        "\n",
        "# Analiza el sentimiento para cada revisión y almacena los resultados\n",
        "sia = SentimentIntensityAnalyzer()\n",
        "for row in results:\n",
        "    content = row[\"review_content_limpio\"]\n",
        "    sentiment_score = sia.polarity_scores(content)[\"compound\"]\n",
        "    sentiments.append(sentiment_score)\n",
        "\n",
        "# Crea un DataFrame con los resultados y agrega la nueva columna\n",
        "df = pd.DataFrame({\n",
        "    \"review_content_limpio\": [row[\"review_content_limpio\"] for row in results],\n",
        "    \"sentiment_score\": sentiments\n",
        "})\n",
        "\n",
        "# Crea la tabla temporal con la nueva columna\n",
        "table_temporal_id = \"temporal\"  # Reemplaza con tu ID de tabla temporal\n",
        "table_temporal_ref = client.dataset(\"datos\").table(table_temporal_id)\n",
        "job_config_temporal = bigquery.LoadJobConfig(\n",
        "    schema=[bigquery.SchemaField(\"sentiment_score\", \"FLOAT64\")],\n",
        "    write_disposition=\"WRITE_TRUNCATE\"\n",
        ")\n",
        "client.load_table_from_dataframe(df, table_temporal_ref, job_config=job_config_temporal).result()\n",
        "\n",
        "# Recrea la vista con la nueva columna\n",
        "sql_statement = f\"\"\"\n",
        "CREATE OR REPLACE VIEW `datalab-410116.datos.amazon_limpia` AS\n",
        "SELECT\n",
        "  review_content_limpio,\n",
        "  sentiment_score\n",
        "FROM\n",
        "  `datalab-410116.datos.{table_temporal_id}`\n",
        "\"\"\"\n",
        "client.query(sql_statement).result()\n"
      ],
      "metadata": {
        "colab": {
          "base_uri": "https://localhost:8080/"
        },
        "id": "nZ6dNVbZiHfC",
        "outputId": "dff99f8d-e026-4ed5-fbeb-d9582739724c"
      },
      "execution_count": null,
      "outputs": [
        {
          "output_type": "execute_result",
          "data": {
            "text/plain": [
              "<google.cloud.bigquery.table._EmptyRowIterator at 0x7efca3775e70>"
            ]
          },
          "metadata": {},
          "execution_count": 3
        }
      ]
    },
    {
      "cell_type": "code",
      "source": [
        "from scipy.stats import kruskal\n",
        "from google.colab import auth\n",
        "from google.cloud import bigquery\n",
        "import pandas as pd\n",
        "\n",
        "# Autenticación en Google Cloud\n",
        "auth.authenticate_user()\n",
        "\n",
        "# Configuración del proyecto de Google Cloud\n",
        "project_id = \"datalab-410116\"\n",
        "client = bigquery.Client(project=project_id)\n",
        "\n",
        "# Ejemplo de consulta para obtener datos de BigQuery\n",
        "query = \"\"\"\n",
        "SELECT discounted_price, rating_count\n",
        "FROM `datos.AmzSalesData`\n",
        "\"\"\"\n",
        "\n",
        "# Ejecutar la consulta y obtener los datos\n",
        "result = client.query(query).to_dataframe()\n",
        "\n",
        "# Verificar y explorar los datos\n",
        "print(result.head())\n",
        "\n",
        "# Ejemplo de más de dos muestras independientes\n",
        "stat, p_value = kruskal(result['discounted_price'], result['rating_count'])\n",
        "print(f\"Estadística de prueba H: {stat}\")\n",
        "print(f\"Valor p: {p_value}\")\n"
      ],
      "metadata": {
        "colab": {
          "base_uri": "https://localhost:8080/"
        },
        "id": "xASsKMWmFtmn",
        "outputId": "bffd7eac-8176-4964-fc30-7ce494fed5d2"
      },
      "execution_count": null,
      "outputs": [
        {
          "output_type": "stream",
          "name": "stdout",
          "text": [
            "   discounted_price  rating_count\n",
            "0              1999         63899\n",
            "1               119         15032\n",
            "2               299           903\n",
            "3               721          2449\n",
            "4               499            79\n",
            "Estadística de prueba H: 315.0303592821003\n",
            "Valor p: 1.7515507122645947e-70\n"
          ]
        }
      ]
    },
    {
      "cell_type": "code",
      "source": [
        "from scipy.stats import kruskal\n",
        "from google.colab import auth\n",
        "from google.cloud import bigquery\n",
        "import pandas as pd\n",
        "\n",
        "# Autenticación en Google Cloud\n",
        "auth.authenticate_user()\n",
        "\n",
        "# Configuración del proyecto de Google Cloud\n",
        "project_id = \"datalab-410116\"\n",
        "client = bigquery.Client(project=project_id)\n",
        "\n",
        "# Ejemplo de consulta para obtener datos de BigQuery\n",
        "query = \"\"\"\n",
        "SELECT *\n",
        "FROM `datos.AmzSalesData`\n",
        "\"\"\"\n",
        "\n",
        "# Ejecutar la consulta y obtener los datos\n",
        "result = client.query(query).to_dataframe()\n",
        "\n",
        "# Verificar y explorar los datos\n",
        "print(result.head())\n",
        "\n",
        "# Ejemplo de más de dos muestras independientes\n",
        "stat, p_value = kruskal(result['actual_price'], result['discount_percentage'])\n",
        "print(f\"Estadística de prueba H: {stat}\")\n",
        "print(f\"Valor p: {p_value}\")\n"
      ],
      "metadata": {
        "colab": {
          "base_uri": "https://localhost:8080/"
        },
        "id": "syxnMSd0KMSh",
        "outputId": "8eea2318-bc15-4b4a-ae44-ada1aa36390e"
      },
      "execution_count": null,
      "outputs": [
        {
          "output_type": "stream",
          "name": "stdout",
          "text": [
            "   product_id                                       product_name  \\\n",
            "0  B08LPJZSSW  DIGITEK® (DTR 260 GT) Gorilla Tripod/Mini 33 c...   \n",
            "1  B0BNDD9TN6  WANBO X1 Pro (Upgraded) | Native 1080P Full HD...   \n",
            "2  B00LM4X3XE                    Parker Quink Ink Bottle (Black)   \n",
            "3  B082ZQ4479  Prestige PWG 07 Wet Grinder, 2L (Multicolor) w...   \n",
            "4  B06XPYRWV5  Pigeon by Stovekraft 2 Slice Auto Pop up Toast...   \n",
            "\n",
            "                                            category     subcategory  \\\n",
            "0  Electronics|Cameras&Photography|Accessories|Tr...     Electronics   \n",
            "1        Electronics|HomeTheater,TV&Video|Projectors     Electronics   \n",
            "2  OfficeProducts|OfficePaperProducts|Paper|Stati...  OfficeProducts   \n",
            "3  Home&Kitchen|Kitchen&HomeAppliances|SmallKitch...    Home&Kitchen   \n",
            "4  Home&Kitchen|Kitchen&HomeAppliances|SmallKitch...    Home&Kitchen   \n",
            "\n",
            "   actual_price  cuartil_actual_price cat_actual_price  discounted_price  \\\n",
            "0           995                     2             Bajo               399   \n",
            "1         28900                     4         Muy alto             13990   \n",
            "2           100                     1         Muy bajo                90   \n",
            "3          4330                     4         Muy alto              3710   \n",
            "4          1795                     3             Alto              1099   \n",
            "\n",
            "   cuartil_discounted_price cat_discounted_price  ...  \\\n",
            "0                         2       Bajo descuento  ...   \n",
            "1                         4       Gran descuento  ...   \n",
            "2                         1        Sin descuento  ...   \n",
            "3                         4       Gran descuento  ...   \n",
            "4                         3   Descuento moderado  ...   \n",
            "\n",
            "                                about_product_limpio  rating cuartil_rating  \\\n",
            "0  Heavy Duty  The Gorillapod mobile tripod is ma...     3.9              2   \n",
            "1     Powerfully Compact  Wanbo X1 pro boasts inc...     4.5              4   \n",
            "2  Black Colour is washable in nature  30ml Bottl...     4.3              4   \n",
            "3  2 Litres Capacity  5 Years Warranty on Motor H...     3.7              1   \n",
            "4  2 slice capacity and auto pop up Cool touch bo...     4.2              3   \n",
            "\n",
            "        cat_rating rating_count cuartil_rating_count cat_rating_count  \\\n",
            "0        Aceptable        21372                    4         Muy alto   \n",
            "1        Excelente            7                    1             Bajo   \n",
            "2            Bueno         3061                    2         Moderado   \n",
            "3  Insatisfactorio         1662                    2         Moderado   \n",
            "4            Bueno         4244                    3             Alto   \n",
            "\n",
            "   sentiment_score  cuartil_sentimental_score cat_sentimental_score  \n",
            "0           0.9955                          4              Positivo  \n",
            "1           0.9152                          1          Muy negativo  \n",
            "2           0.9953                          4              Positivo  \n",
            "3           0.9028                          1          Muy negativo  \n",
            "4           0.9647                          2              Negativo  \n",
            "\n",
            "[5 rows x 26 columns]\n",
            "Estadística de prueba H: 1778.496302691412\n",
            "Valor p: 0.0\n"
          ]
        }
      ]
    },
    {
      "cell_type": "code",
      "source": [
        "from scipy.stats import kruskal\n",
        "from google.colab import auth\n",
        "from google.cloud import bigquery\n",
        "import pandas as pd\n",
        "\n",
        "# Autenticación en Google Cloud\n",
        "auth.authenticate_user()\n",
        "\n",
        "# Configuración del proyecto de Google Cloud\n",
        "project_id = \"datalab-410116\"\n",
        "client = bigquery.Client(project=project_id)\n",
        "\n",
        "# Ejemplo de consulta para obtener datos de BigQuery\n",
        "query = \"\"\"\n",
        "SELECT *\n",
        "FROM `datos.AmzSalesData`\n",
        "\"\"\"\n",
        "\n",
        "# Ejecutar la consulta y obtener los datos\n",
        "result = client.query(query).to_dataframe()\n",
        "\n",
        "# Verificar y explorar los datos\n",
        "print(result.head())\n",
        "\n",
        "# Ejemplo de más de dos muestras independientes\n",
        "stat, p_value = kruskal(result['sentiment_score'], result['rating'])\n",
        "print(f\"Estadística de prueba H: {stat}\")\n",
        "print(f\"Valor p: {p_value}\")\n",
        "\n"
      ],
      "metadata": {
        "colab": {
          "base_uri": "https://localhost:8080/"
        },
        "id": "DFHLcsH9MBEq",
        "outputId": "59bf7043-19a1-47eb-b726-1d91ee1608bd"
      },
      "execution_count": null,
      "outputs": [
        {
          "output_type": "stream",
          "name": "stdout",
          "text": [
            "   product_id                                       product_name  \\\n",
            "0  B08LPJZSSW  DIGITEK® (DTR 260 GT) Gorilla Tripod/Mini 33 c...   \n",
            "1  B0BNDD9TN6  WANBO X1 Pro (Upgraded) | Native 1080P Full HD...   \n",
            "2  B00LM4X3XE                    Parker Quink Ink Bottle (Black)   \n",
            "3  B082ZQ4479  Prestige PWG 07 Wet Grinder, 2L (Multicolor) w...   \n",
            "4  B06XPYRWV5  Pigeon by Stovekraft 2 Slice Auto Pop up Toast...   \n",
            "\n",
            "                                            category     subcategory  \\\n",
            "0  Electronics|Cameras&Photography|Accessories|Tr...     Electronics   \n",
            "1        Electronics|HomeTheater,TV&Video|Projectors     Electronics   \n",
            "2  OfficeProducts|OfficePaperProducts|Paper|Stati...  OfficeProducts   \n",
            "3  Home&Kitchen|Kitchen&HomeAppliances|SmallKitch...    Home&Kitchen   \n",
            "4  Home&Kitchen|Kitchen&HomeAppliances|SmallKitch...    Home&Kitchen   \n",
            "\n",
            "   actual_price  cuartil_actual_price cat_actual_price  discounted_price  \\\n",
            "0           995                     2             Bajo               399   \n",
            "1         28900                     4         Muy alto             13990   \n",
            "2           100                     1         Muy bajo                90   \n",
            "3          4330                     4         Muy alto              3710   \n",
            "4          1795                     3             Alto              1099   \n",
            "\n",
            "   cuartil_discounted_price cat_discounted_price  ...  \\\n",
            "0                         2       Bajo descuento  ...   \n",
            "1                         4       Gran descuento  ...   \n",
            "2                         1        Sin descuento  ...   \n",
            "3                         4       Gran descuento  ...   \n",
            "4                         3   Descuento moderado  ...   \n",
            "\n",
            "                                about_product_limpio  rating cuartil_rating  \\\n",
            "0  Heavy Duty  The Gorillapod mobile tripod is ma...     3.9              2   \n",
            "1     Powerfully Compact  Wanbo X1 pro boasts inc...     4.5              4   \n",
            "2  Black Colour is washable in nature  30ml Bottl...     4.3              4   \n",
            "3  2 Litres Capacity  5 Years Warranty on Motor H...     3.7              1   \n",
            "4  2 slice capacity and auto pop up Cool touch bo...     4.2              3   \n",
            "\n",
            "        cat_rating rating_count cuartil_rating_count cat_rating_count  \\\n",
            "0        Aceptable        21372                    4         Muy alto   \n",
            "1        Excelente            7                    1             Bajo   \n",
            "2            Bueno         3061                    2         Moderado   \n",
            "3  Insatisfactorio         1662                    2         Moderado   \n",
            "4            Bueno         4244                    3             Alto   \n",
            "\n",
            "   sentiment_score  cuartil_sentimental_score cat_sentimental_score  \n",
            "0           0.9955                          4              Positivo  \n",
            "1           0.9152                          1          Muy negativo  \n",
            "2           0.9953                          4              Positivo  \n",
            "3           0.9028                          1          Muy negativo  \n",
            "4           0.9647                          2              Negativo  \n",
            "\n",
            "[5 rows x 26 columns]\n",
            "Estadística de prueba H: nan\n",
            "Valor p: nan\n"
          ]
        }
      ]
    },
    {
      "cell_type": "code",
      "source": [
        "from scipy.stats import kruskal\n",
        "from google.colab import auth\n",
        "from google.cloud import bigquery\n",
        "import pandas as pd\n",
        "\n",
        "# Autenticación en Google Cloud\n",
        "auth.authenticate_user()\n",
        "\n",
        "# Configuración del proyecto de Google Cloud\n",
        "project_id = \"datalab-410116\"\n",
        "client = bigquery.Client(project=project_id)\n",
        "\n",
        "# Ejemplo de consulta para obtener datos de BigQuery\n",
        "query = \"\"\"\n",
        "SELECT *\n",
        "FROM `datos.AmzSalesData`\n",
        "\"\"\"\n",
        "\n",
        "# Ejecutar la consulta y obtener los datos\n",
        "result = client.query(query).to_dataframe()\n",
        "\n",
        "# Verificar y explorar los datos\n",
        "print(result.head())\n",
        "\n",
        "# Ejemplo de más de dos muestras independientes\n",
        "stat, p_value = kruskal(result['actual_price'], result['sentiment_score'])\n",
        "print(f\"Estadística de prueba H: {stat}\")\n",
        "print(f\"Valor p: {p_value}\")\n"
      ],
      "metadata": {
        "colab": {
          "base_uri": "https://localhost:8080/"
        },
        "id": "_c0QwPFENXiz",
        "outputId": "61b90c5c-7e38-4926-b7fb-e7f89c9e8b29"
      },
      "execution_count": null,
      "outputs": [
        {
          "output_type": "stream",
          "name": "stdout",
          "text": [
            "   product_id                                       product_name  \\\n",
            "0  B08LPJZSSW  DIGITEK® (DTR 260 GT) Gorilla Tripod/Mini 33 c...   \n",
            "1  B0BNDD9TN6  WANBO X1 Pro (Upgraded) | Native 1080P Full HD...   \n",
            "2  B00LM4X3XE                    Parker Quink Ink Bottle (Black)   \n",
            "3  B082ZQ4479  Prestige PWG 07 Wet Grinder, 2L (Multicolor) w...   \n",
            "4  B06XPYRWV5  Pigeon by Stovekraft 2 Slice Auto Pop up Toast...   \n",
            "\n",
            "                                            category     subcategory  \\\n",
            "0  Electronics|Cameras&Photography|Accessories|Tr...     Electronics   \n",
            "1        Electronics|HomeTheater,TV&Video|Projectors     Electronics   \n",
            "2  OfficeProducts|OfficePaperProducts|Paper|Stati...  OfficeProducts   \n",
            "3  Home&Kitchen|Kitchen&HomeAppliances|SmallKitch...    Home&Kitchen   \n",
            "4  Home&Kitchen|Kitchen&HomeAppliances|SmallKitch...    Home&Kitchen   \n",
            "\n",
            "   actual_price  cuartil_actual_price cat_actual_price  discounted_price  \\\n",
            "0           995                     2             Bajo               399   \n",
            "1         28900                     4         Muy alto             13990   \n",
            "2           100                     1         Muy bajo                90   \n",
            "3          4330                     4         Muy alto              3710   \n",
            "4          1795                     3             Alto              1099   \n",
            "\n",
            "   cuartil_discounted_price cat_discounted_price  ...  \\\n",
            "0                         2       Bajo descuento  ...   \n",
            "1                         4       Gran descuento  ...   \n",
            "2                         1        Sin descuento  ...   \n",
            "3                         4       Gran descuento  ...   \n",
            "4                         3   Descuento moderado  ...   \n",
            "\n",
            "                                about_product_limpio  rating cuartil_rating  \\\n",
            "0  Heavy Duty  The Gorillapod mobile tripod is ma...     3.9              2   \n",
            "1     Powerfully Compact  Wanbo X1 pro boasts inc...     4.5              4   \n",
            "2  Black Colour is washable in nature  30ml Bottl...     4.3              4   \n",
            "3  2 Litres Capacity  5 Years Warranty on Motor H...     3.7              1   \n",
            "4  2 slice capacity and auto pop up Cool touch bo...     4.2              3   \n",
            "\n",
            "        cat_rating rating_count cuartil_rating_count cat_rating_count  \\\n",
            "0        Aceptable        21372                    4         Muy alto   \n",
            "1        Excelente            7                    1             Bajo   \n",
            "2            Bueno         3061                    2         Moderado   \n",
            "3  Insatisfactorio         1662                    2         Moderado   \n",
            "4            Bueno         4244                    3             Alto   \n",
            "\n",
            "   sentiment_score  cuartil_sentimental_score cat_sentimental_score  \n",
            "0           0.9955                          4              Positivo  \n",
            "1           0.9152                          1          Muy negativo  \n",
            "2           0.9953                          4              Positivo  \n",
            "3           0.9028                          1          Muy negativo  \n",
            "4           0.9647                          2              Negativo  \n",
            "\n",
            "[5 rows x 26 columns]\n",
            "Estadística de prueba H: 1778.4133197919687\n",
            "Valor p: 0.0\n"
          ]
        }
      ]
    },
    {
      "cell_type": "code",
      "source": [
        "import pandas as pd\n",
        "from scipy.stats import shapiro\n",
        "from google.colab import auth\n",
        "# Autenticación con BigQuery (puede que necesites autenticarte si aún no lo has hecho)\n",
        "auth.authenticate_user()\n",
        "# Especifica tu proyecto y configuración de BigQuery\n",
        "project_id = \"datalab-410116\"\n",
        "query = \"SELECT * FROM `datalab-410116.datos.AmzSalesData`\"  # Incluye solo las columnas relevantes\n",
        "# Lee los datos desde BigQuery a un DataFrame de pandas\n",
        "df = pd.read_gbq(query, project_id=project_id, dialect=\"standard\")\n",
        "# Selecciona la columna de interés para aplicar el test de Shapiro para discounted_price\n",
        "columna_descuento = 'discounted_price'\n",
        "datos_descuento = df[columna_descuento].dropna()  # Asegúrate de manejar los valores nulos adecuadamente\n",
        "# Aplica el test de Shapiro para discounted_price\n",
        "estadistico_shapiro_descuento, p_valor_descuento = shapiro(datos_descuento)\n",
        "# Imprime los resultados para discounted_price\n",
        "print(f'Estadístico de Shapiro para discounted_price: {estadistico_shapiro_descuento}')\n",
        "print(f'P-valor para discounted_price: {p_valor_descuento}')\n",
        "# Selecciona la columna de interés para aplicar el test de Shapiro para rating_count\n",
        "columna_calificaciones = 'rating_count'\n",
        "datos_calificaciones = df[columna_calificaciones].dropna()  # Asegúrate de manejar los valores nulos adecuadamente\n",
        "# Aplica el test de Shapiro para rating_count\n",
        "estadistico_shapiro_calificaciones, p_valor_calificaciones = shapiro(datos_calificaciones)\n",
        "# Imprime los resultados para rating_count\n",
        "print(f'Estadístico de Shapiro para rating_count: {estadistico_shapiro_calificaciones}')\n",
        "print(f'P-valor para rating_count: {p_valor_calificaciones}')\n",
        "# Interpreta los resultados para discounted_price\n",
        "alpha = 0.05\n",
        "if p_valor_descuento > alpha:\n",
        "    print('No se rechaza la hipótesis nula para discounted_price. Los datos parecen seguir una distribución normal.')\n",
        "else:\n",
        "    print('Se rechaza la hipótesis nula para discounted_price. Los datos no siguen una distribución normal.')\n",
        "# Interpreta los resultados para rating_count\n",
        "if p_valor_calificaciones > alpha:\n",
        "    print('No se rechaza la hipótesis nula para rating_count. Los datos parecen seguir una distribución normal.')\n",
        "else:\n",
        "    print('Se rechaza la hipótesis nula para rating_count. Los datos no siguen una distribución normal.')"
      ],
      "metadata": {
        "colab": {
          "base_uri": "https://localhost:8080/"
        },
        "id": "uZiUPyEMTPQA",
        "outputId": "8354cb39-0600-45dc-b780-08fc0d0970be"
      },
      "execution_count": null,
      "outputs": [
        {
          "output_type": "stream",
          "name": "stdout",
          "text": [
            "Estadístico de Shapiro para discounted_price: 0.4017055034637451\n",
            "P-valor para discounted_price: 0.0\n",
            "Estadístico de Shapiro para rating_count: 0.4201014041900635\n",
            "P-valor para rating_count: 0.0\n",
            "Se rechaza la hipótesis nula para discounted_price. Los datos no siguen una distribución normal.\n",
            "Se rechaza la hipótesis nula para rating_count. Los datos no siguen una distribución normal.\n"
          ]
        }
      ]
    },
    {
      "cell_type": "code",
      "source": [
        "from scipy.stats import wilcoxon\n",
        "import pandas as pd\n",
        "# Especifica tu proyecto y configuración de BigQuery\n",
        "project_id = \"datalab-410116\"\n",
        "query = \"SELECT discounted_price, rating_count FROM `datalab-410116.datos.AmzSalesData`\"  # Ajusta la consulta SQL según tus necesidades\n",
        "# Lee los datos desde BigQuery a un DataFrame de pandas\n",
        "df = pd.read_gbq(query, project_id=project_id, dialect=\"standard\")\n",
        "# Supongamos que quieres comparar dos grupos de datos independientes\n",
        "grupo1 = df['discounted_price']\n",
        "grupo2 = df['rating_count']\n",
        "# Aplica la Prueba de Wilcoxon\n",
        "estadistico_wilcoxon, p_valor_wilcoxon = wilcoxon(grupo1, grupo2)\n",
        "# Imprime los resultados\n",
        "print(f'Estadístico de la Prueba de Wilcoxon: {estadistico_wilcoxon}')\n",
        "print(f'P-valor para la Prueba de Wilcoxon: {p_valor_wilcoxon}')\n",
        "# Interpreta los resultados\n",
        "alpha = 0.05\n",
        "if p_valor_wilcoxon > alpha:\n",
        "    print('No se rechaza la hipótesis nula. No hay evidencia suficiente para afirmar que hay una diferencia significativa.')\n",
        "else:\n",
        "    print('Se rechaza la hipótesis nula. Hay evidencia significativa para afirmar que hay una diferencia entre los grupos.')"
      ],
      "metadata": {
        "colab": {
          "base_uri": "https://localhost:8080/"
        },
        "id": "HkvLeLWYUKUr",
        "outputId": "7abde2ea-c629-4c01-cbfb-fb225bff8ded"
      },
      "execution_count": null,
      "outputs": [
        {
          "output_type": "stream",
          "name": "stdout",
          "text": [
            "Estadístico de la Prueba de Wilcoxon: 137571.0\n",
            "P-valor para la Prueba de Wilcoxon: 8.87058766884398e-74\n",
            "Se rechaza la hipótesis nula. Hay evidencia significativa para afirmar que hay una diferencia entre los grupos.\n"
          ]
        }
      ]
    },
    {
      "cell_type": "code",
      "source": [
        "import numpy as np\n",
        "import pandas as pd\n",
        "import matplotlib.pyplot as plt\n",
        "from sklearn.model_selection import train_test_split\n",
        "from sklearn.linear_model import LinearRegression\n",
        "from sklearn.metrics import mean_squared_error\n",
        "# Especifica tu proyecto y configuración de BigQuery\n",
        "project_id = \"datalab-410116\"\n",
        "query = \"SELECT discounted_price, rating_count FROM `datalab-410116.datos.AmzSalesData`\"  # Ajusta la consulta SQL según tus necesidades\n",
        "# Lee los datos desde BigQuery a un DataFrame de pandas\n",
        "df = pd.read_gbq(query, project_id=project_id, dialect=\"standard\")\n",
        "# Seleccionar las variables de interés\n",
        "df = df[['discounted_price', 'rating_count']]\n",
        "# Dividir los datos en conjuntos de entrenamiento y prueba\n",
        "X = df[['discounted_price']]\n",
        "y = df['rating_count']\n",
        "X_train, X_test, y_train, y_test = train_test_split(X, y, test_size=0.2, random_state=42)\n",
        "# Crear un modelo de regresión lineal\n",
        "model = LinearRegression()\n",
        "# Entrenar el modelo\n",
        "model.fit(X_train, y_train)\n",
        "# Hacer predicciones en el conjunto de prueba\n",
        "y_pred = model.predict(X_test)\n",
        "# Calcular el error cuadrático medio en el conjunto de prueba\n",
        "mse = mean_squared_error(y_test, y_pred)\n",
        "print(f\"Error Cuadrático Medio en el conjunto de prueba: {mse}\")\n",
        "# Visualizar los resultados\n",
        "plt.scatter(X_test, y_test, color='black', label='Datos reales')\n",
        "plt.plot(X_test, y_pred, color='blue', linewidth=3, label='Regresión Lineal')\n",
        "plt.xlabel('discounted_price')\n",
        "plt.ylabel('rating_count')\n",
        "plt.title('Regresión Lineal: discounted_price vs rating_count')\n",
        "plt.legend()\n",
        "plt.show()"
      ],
      "metadata": {
        "colab": {
          "base_uri": "https://localhost:8080/",
          "height": 489
        },
        "id": "_AlZdHVxUlJv",
        "outputId": "89911b25-c32c-44cf-e890-bdd3fb4405af"
      },
      "execution_count": null,
      "outputs": [
        {
          "output_type": "stream",
          "name": "stdout",
          "text": [
            "Error Cuadrático Medio en el conjunto de prueba: 1707853190.1675158\n"
          ]
        },
        {
          "output_type": "display_data",
          "data": {
            "text/plain": [
              "<Figure size 640x480 with 1 Axes>"
            ],
            "image/png": "[encoded data removed]"
          },
          "metadata": {}
        }
      ]
    },
    {
      "cell_type": "code",
      "source": [
        "from google.cloud import bigquery\n",
        "from scipy.stats import pearsonr\n",
        "import numpy as np\n",
        "\n",
        "# Configurar el cliente de BigQuery (reemplazar 'tu-proyecto' con el nombre de tu proyecto)\n",
        "client = bigquery.Client(project='datalab-410116')\n",
        "# Especificar la consulta (reemplazar 'tu-dataset.tu-tabla' con tus propios datos)\n",
        "query = \"\"\"\n",
        "SELECT discounted_price, rating\n",
        "FROM `datalab-410116.datos.AmzSalesData`\n",
        "\"\"\"\n",
        "# Ejecutar la consulta y obtener los resultados en un DataFrame\n",
        "query_job = client.query(query)\n",
        "df = query_job.to_dataframe()\n",
        "\n",
        "# Eliminar filas con valores NaN\n",
        "df = df.dropna(subset=['discounted_price', 'rating'])\n",
        "\n",
        "# Eliminar filas con valores infinitos\n",
        "df = df[np.isfinite(df['discounted_price']) & np.isfinite(df['rating'])]\n",
        "\n",
        "# Calcular la correlación de Pearson y realizar la prueba de significancia\n",
        "r, p_value = pearsonr(df['discounted_price'], df['rating'])\n",
        "# Imprimir los resultados\n",
        "print(f\"Correlación de Pearson: {r}\")\n",
        "print(f\"Valor p: {p_value}\")\n",
        "\n",
        "# Comparar con un umbral de significancia (por ejemplo, 0.05)\n",
        "alpha = 0.05\n",
        "if p_value < alpha:\n",
        "    print(\"Se rechaza la hipótesis nula. Hay una correlación significativa.\")\n",
        "else:\n",
        "    print(\"No hay suficiente evidencia para rechazar la hipótesis nula.\")\n"
      ],
      "metadata": {
        "colab": {
          "base_uri": "https://localhost:8080/"
        },
        "id": "FO7LF3znfIx0",
        "outputId": "9a6add48-aa85-4569-f290-8ae7ab159902"
      },
      "execution_count": null,
      "outputs": [
        {
          "output_type": "stream",
          "name": "stdout",
          "text": [
            "Correlación de Pearson: 0.11947390869165568\n",
            "Valor p: 3.736688269781029e-05\n",
            "Se rechaza la hipótesis nula. Hay una correlación significativa.\n"
          ]
        }
      ]
    },
    {
      "cell_type": "code",
      "source": [
        "from google.cloud import bigquery\n",
        "from scipy.stats import pearsonr\n",
        "# Configurar el cliente de BigQuery (reemplazar 'tu-proyecto' con el nombre de tu proyecto)\n",
        "client = bigquery.Client(project='datalab-410116')\n",
        "# Especificar la consulta (reemplazar 'tu-dataset.tu-tabla' con tus propios datos)\n",
        "query = \"\"\"\n",
        "SELECT actual_price, discount_percentage\n",
        "FROM `datalab-410116.datos.AmzSalesData`\n",
        "\"\"\"\n",
        "# Ejecutar la consulta y obtener los resultados en un DataFrame\n",
        "query_job = client.query(query)\n",
        "df = query_job.to_dataframe()\n",
        "# Calcular la correlación de Pearson y realizar la prueba de significancia\n",
        "r, p_value = pearsonr(df['discount_percentage'], df['actual_price'])\n",
        "# Imprimir los resultados\n",
        "print(f\"Correlación de Pearson: {r}\")\n",
        "print(f\"Valor p: {p_value}\")\n",
        "# Comparar con un umbral de significancia (por ejemplo, 0.05)\n",
        "alpha = 0.05\n",
        "if p_value < alpha:\n",
        "    print(\"Se rechaza la hipótesis nula. Hay una correlación significativa.\")\n",
        "else:\n",
        "    print(\"No hay suficiente evidencia para rechazar la hipótesis nula.\")"
      ],
      "metadata": {
        "colab": {
          "base_uri": "https://localhost:8080/"
        },
        "id": "C6kMwLOMgv6C",
        "outputId": "0b683378-1d76-45bc-eba2-f203dd2e2ea1"
      },
      "execution_count": null,
      "outputs": [
        {
          "output_type": "stream",
          "name": "stdout",
          "text": [
            "Correlación de Pearson: -0.05739896745437931\n",
            "Valor p: 0.04812411231476601\n",
            "Se rechaza la hipótesis nula. Hay una correlación significativa.\n"
          ]
        }
      ]
    },
    {
      "cell_type": "code",
      "source": [
        "from google.cloud import bigquery\n",
        "from scipy.stats import pearsonr\n",
        "# Configurar el cliente de BigQuery (reemplazar 'tu-proyecto' con el nombre de tu proyecto)\n",
        "client = bigquery.Client(project='datalab-410116')\n",
        "# Especificar la consulta (reemplazar 'tu-dataset.tu-tabla' con tus propios datos)\n",
        "query = \"\"\"\n",
        "SELECT sentiment_score, rating\n",
        "FROM `datalab-410116.datos.AmzSalesData`\n",
        "\"\"\"\n",
        "# Ejecutar la consulta y obtener los resultados en un DataFrame\n",
        "query_job = client.query(query)\n",
        "df = query_job.to_dataframe()\n",
        "# Eliminar filas con valores faltantes\n",
        "df = df.dropna()\n",
        "# Calcular la correlación de Pearson y realizar la prueba de significancia\n",
        "r, p_value = pearsonr(df['rating'], df['sentiment_score'])\n",
        "# Imprimir los resultados\n",
        "print(f\"Correlación de Pearson: {r}\")\n",
        "print(f\"Valor p: {p_value}\")\n",
        "# Comparar con un umbral de significancia (por ejemplo, 0.05)\n",
        "alpha = 0.05\n",
        "if p_value < alpha:\n",
        "    print(\"Se rechaza la hipótesis nula. Hay una correlación significativa.\")\n",
        "else:\n",
        "    print(\"No hay suficiente evidencia para rechazar la hipótesis nula.\")"
      ],
      "metadata": {
        "colab": {
          "base_uri": "https://localhost:8080/"
        },
        "id": "Bb25CT8ujZM_",
        "outputId": "0ab619cd-c589-4e10-bab8-4ceca49083b8"
      },
      "execution_count": null,
      "outputs": [
        {
          "output_type": "stream",
          "name": "stdout",
          "text": [
            "Correlación de Pearson: 0.22818642311607984\n",
            "Valor p: 1.83676656165425e-15\n",
            "Se rechaza la hipótesis nula. Hay una correlación significativa.\n"
          ]
        }
      ]
    },
    {
      "cell_type": "code",
      "source": [
        "from google.cloud import bigquery\n",
        "from scipy.stats import pearsonr\n",
        "# Configurar el cliente de BigQuery (reemplazar 'tu-proyecto' con el nombre de tu proyecto)\n",
        "client = bigquery.Client(project='datalab-410116')\n",
        "# Especificar la consulta (reemplazar 'tu-dataset.tu-tabla' con tus propios datos)\n",
        "query = \"\"\"\n",
        "SELECT sentiment_score, actual_price\n",
        "FROM `datalab-410116.datos.AmzSalesData`\n",
        "\"\"\"\n",
        "# Ejecutar la consulta y obtener los resultados en un DataFrame\n",
        "query_job = client.query(query)\n",
        "df = query_job.to_dataframe()\n",
        "# Eliminar filas con valores faltantes\n",
        "df = df.dropna()\n",
        "# Calcular la correlación de Pearson y realizar la prueba de significancia\n",
        "r, p_value = pearsonr(df['sentiment_score'], df['actual_price'])\n",
        "# Imprimir los resultados\n",
        "print(f\"Correlación de Pearson: {r}\")\n",
        "print(f\"Valor p: {p_value}\")\n",
        "# Comparar con un umbral de significancia (por ejemplo, 0.05)\n",
        "alpha = 0.05\n",
        "if p_value < alpha:\n",
        "    print(\"Se rechaza la hipótesis nula. Hay una correlación significativa.\")\n",
        "else:\n",
        "    print(\"No hay suficiente evidencia para rechazar la hipótesis nula.\")"
      ],
      "metadata": {
        "colab": {
          "base_uri": "https://localhost:8080/"
        },
        "id": "yvX1VEXzjydR",
        "outputId": "179d261d-333d-4e55-fd72-7e8a09d5cbb1"
      },
      "execution_count": null,
      "outputs": [
        {
          "output_type": "stream",
          "name": "stdout",
          "text": [
            "Correlación de Pearson: 0.03247860040271032\n",
            "Valor p: 0.26372725617971127\n",
            "No hay suficiente evidencia para rechazar la hipótesis nula.\n"
          ]
        }
      ]
    }
  ]
}